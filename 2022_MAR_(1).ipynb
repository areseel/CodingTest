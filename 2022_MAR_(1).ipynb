{
  "nbformat": 4,
  "nbformat_minor": 0,
  "metadata": {
    "colab": {
      "provenance": []
    },
    "kernelspec": {
      "name": "python3",
      "display_name": "Python 3"
    },
    "language_info": {
      "name": "python"
    }
  },
  "cells": [
    {
      "cell_type": "code",
      "execution_count": null,
      "metadata": {
        "id": "Ks3CN0_RoW95"
      },
      "outputs": [],
      "source": [
        "def palindrome(s):\n",
        "    left = 0 # 단어의 앞에서부터 시작\n",
        "    right = len(s) - 1 # 단어의 뒤에서부터 시작\n",
        "    while left < right:\n",
        "        if s[left] != s[right]: # 회문이 아니게 되는 순간 false 반환\n",
        "            return False\n",
        "        left += 1 # 앞으로 한칸 전진\n",
        "        right -= 1 # 뒤로 한칸 후진\n",
        "    return True # while 문이 모두 돌면 true 반환"
      ]
    },
    {
      "cell_type": "code",
      "source": [
        "a = \"abcaba\"\n",
        "palindrome(a)"
      ],
      "metadata": {
        "colab": {
          "base_uri": "https://localhost:8080/"
        },
        "id": "ZpVQcZv4o9SZ",
        "outputId": "e44bc71b-aa10-4da1-a3ab-e0ccbb9e4a7f"
      },
      "execution_count": null,
      "outputs": [
        {
          "output_type": "execute_result",
          "data": {
            "text/plain": [
              "False"
            ]
          },
          "metadata": {},
          "execution_count": 9
        }
      ]
    },
    {
      "cell_type": "code",
      "source": [
        "def substring(s, t):\n",
        "    s_len, t_len = len(s), len(t)\n",
        "    for i in range(s_len - t_len + 1): # substring이기 위해서는 적어도 t_len 만큼의 길이가 남아있어야하니까\n",
        "      if s[i:i+t_len] == t:\n",
        "        return True # substing을 찾았을때 true 반환\n",
        "    return False # for 문을 모두 돌았는데도 substring을 못찾으면 false 반환"
      ],
      "metadata": {
        "id": "wLl6nsO1pHbh"
      },
      "execution_count": null,
      "outputs": []
    },
    {
      "cell_type": "code",
      "source": [
        "b = \"kabccbadzdefgfeda\"\n",
        "c = \"defgfed\"\n",
        "substring(b, c)"
      ],
      "metadata": {
        "colab": {
          "base_uri": "https://localhost:8080/"
        },
        "id": "RFcNzbY-pLKV",
        "outputId": "c5f493a6-eb47-42aa-de3b-d5e3e1178c53"
      },
      "execution_count": null,
      "outputs": [
        {
          "output_type": "execute_result",
          "data": {
            "text/plain": [
              "True"
            ]
          },
          "metadata": {},
          "execution_count": 4
        }
      ]
    },
    {
      "cell_type": "code",
      "source": [
        "c = \"kabccbadzdefgfeda\"\n",
        "b = \"defgfed\"\n",
        "substring(b, c)"
      ],
      "metadata": {
        "colab": {
          "base_uri": "https://localhost:8080/"
        },
        "id": "RDMZhI3JGzFH",
        "outputId": "12266f47-097a-45ae-f22e-8ea410d7da3a"
      },
      "execution_count": null,
      "outputs": [
        {
          "output_type": "execute_result",
          "data": {
            "text/plain": [
              "False"
            ]
          },
          "metadata": {},
          "execution_count": 6
        }
      ]
    },
    {
      "cell_type": "code",
      "source": [
        "def max_palindromes(s):\n",
        "  palindromes = [] # 모든 회문을 넣을 리스트 (중복 o)\n",
        "  to_be_removed = [] # 회문이지만, 중복되는 단어를 넣을 리스트 -> 나중에 들어온 단어가 이미 추가된 단어보다 긴 경우\n",
        "  s_len = len(s)\n",
        "\n",
        "  for i in range(s_len): # s의 모든 문자를 돌게됨\n",
        "    temp = \"\" # 회문을 넣을 문자열, 더 긴 회문을 찾았을 때 업데이트 됨\n",
        "\n",
        "    for j in range(i+1, s_len+1): # i 인덱스 이후를 살펴봄\n",
        "      substring_s = s[i:j] # j가 s의 길이보다 길어도 s의 마지막 문자까지만 출력됨\n",
        "\n",
        "      if palindrome(substring_s): # substring_s가 회문이면서\n",
        "\n",
        "        # substring_s이 palindromes에 있는 단어 sub_s의 substring이 아닐때\n",
        "        if not any(substring(sub_s, substring_s) for sub_s in palindromes):\n",
        "          temp = substring_s # 해당 단어를 temp에 저장 -> temp인 이유는 더 긴 회문을 찾았을 때 업데이트하기 위해서\n",
        "\n",
        "        # substring(sub_s, substring_s)이고 + palindromes에 있는 단어 sub_sd가 새로 들어오는 단어의 substring일 때 -> 나중에 확인하는 단어가 더 길 때\n",
        "        elif (substring(substring_s, sub_s) for sub_s in palindromes):\n",
        "        # 그런데 위에서는 반대로 기존에 palidromes에 있는 회문이 새로 들어오는 회문의 substring일때를 거르지 못함\n",
        "          to_be_removed.append(substring_s) # 그래서 그런 경우에 해당하는 새 단어를 따로 저장해둠\n",
        "          # to_be_removed에는 palindorome이지만 palindoromes의 substring이어서 못 들어간 단어들이 저장됨\n",
        "\n",
        "    if temp != \"\": # 그리고 위에 if 문에서 하나도 걸리지 않은 경우 ''로 남아있기 때문에 그렇지 않은 temp들에 대해서만 palindrimes에 저장\n",
        "      palindromes.append(temp)\n",
        "\n",
        "  print(palindromes)\n",
        "  print(to_be_removed)\n",
        "\n",
        "  result = [x for x in palindromes if x not in to_be_removed] # palindromes에서 remove2에 있는 단어를 제외하고 result에 저장\n",
        "\n",
        "  return result"
      ],
      "metadata": {
        "id": "wg-ixw5VCFWH"
      },
      "execution_count": null,
      "outputs": []
    },
    {
      "cell_type": "code",
      "source": [
        "d = \"kabccbadzdefgfeda\"\n",
        "max_palindromes(d)"
      ],
      "metadata": {
        "colab": {
          "base_uri": "https://localhost:8080/"
        },
        "id": "ozidUzqJp6cQ",
        "outputId": "139d7885-7ba2-422e-efbf-d2d977a16cef"
      },
      "execution_count": null,
      "outputs": [
        {
          "output_type": "stream",
          "name": "stdout",
          "text": [
            "['k', 'abccba', 'dzd', 'defgfed']\n",
            "['b', 'bccb', 'c', 'cc', 'c', 'b', 'a', 'z', 'd', 'e', 'efgfe', 'f', 'fgf', 'g', 'f', 'e', 'd', 'a']\n"
          ]
        },
        {
          "output_type": "execute_result",
          "data": {
            "text/plain": [
              "['k', 'abccba', 'dzd', 'defgfed']"
            ]
          },
          "metadata": {},
          "execution_count": 23
        }
      ]
    },
    {
      "cell_type": "code",
      "source": [
        "e = \"kabccba dzabccbaza\"\n",
        "max_palindromes(e)"
      ],
      "metadata": {
        "colab": {
          "base_uri": "https://localhost:8080/"
        },
        "id": "-4dTyJu9qRRb",
        "outputId": "ab118528-0b46-4a5b-86a5-3624a96eead6"
      },
      "execution_count": null,
      "outputs": [
        {
          "output_type": "stream",
          "name": "stdout",
          "text": [
            "['k', 'abccba', ' ', 'd', 'zabccbaz', 'aza']\n",
            "['b', 'bccb', 'c', 'cc', 'c', 'b', 'a', 'a', 'abccba', 'b', 'bccb', 'c', 'cc', 'c', 'b', 'a', 'z', 'a']\n"
          ]
        },
        {
          "output_type": "execute_result",
          "data": {
            "text/plain": [
              "['k', ' ', 'd', 'zabccbaz', 'aza']"
            ]
          },
          "metadata": {},
          "execution_count": 22
        }
      ]
    }
  ]
}